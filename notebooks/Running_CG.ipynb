{
 "cells": [
  {
   "cell_type": "markdown",
   "id": "e462d424",
   "metadata": {},
   "source": [
    "# Running CG"
   ]
  },
  {
   "cell_type": "markdown",
   "id": "a66419ab",
   "metadata": {},
   "source": [
    "In this notebook we show how to load and use our CG implementation."
   ]
  },
  {
   "cell_type": "code",
   "execution_count": 1,
   "id": "aae13aab",
   "metadata": {},
   "outputs": [
    {
     "name": "stderr",
     "output_type": "stream",
     "text": [
      "/home/pop/.local/lib/python3.8/site-packages/tqdm/auto.py:22: TqdmWarning: IProgress not found. Please update jupyter and ipywidgets. See https://ipywidgets.readthedocs.io/en/stable/user_install.html\n",
      "  from .autonotebook import tqdm as notebook_tqdm\n"
     ]
    }
   ],
   "source": [
    "import numpy as np\n",
    "import torch\n",
    "from core.gpytorch_log_cg_re import linear_log_cg_re"
   ]
  },
  {
   "cell_type": "markdown",
   "id": "d74139a7",
   "metadata": {},
   "source": [
    "There are different variantes of the CG solver. Based on their name you can choose variantes with re-orthogonalization and with or without log-scaling."
   ]
  },
  {
   "cell_type": "code",
   "execution_count": 2,
   "id": "dbe71d9d",
   "metadata": {},
   "outputs": [],
   "source": [
    "N = int(1.e2)\n",
    "dtype = torch.float32\n",
    "A = np.random.normal(size=(N, N))\n",
    "A = A @ A.T + 100\n",
    "condition_number = np.linalg.cond(A)\n",
    "A = torch.tensor(A, dtype=dtype)\n",
    "A_fn = lambda x: A @ x\n",
    "b = np.random.normal(size=(N, 1))\n",
    "b = torch.tensor(b, dtype=dtype)"
   ]
  },
  {
   "cell_type": "markdown",
   "id": "b8786924",
   "metadata": {},
   "source": [
    "We created a random symmetric matrix and added with the following condition number"
   ]
  },
  {
   "cell_type": "code",
   "execution_count": 3,
   "id": "5ae019e2",
   "metadata": {},
   "outputs": [
    {
     "name": "stdout",
     "output_type": "stream",
     "text": [
      "Condition of system: 2.396e+06\n"
     ]
    }
   ],
   "source": [
    "print(f'Condition of system: {condition_number:1.3e}')"
   ]
  },
  {
   "cell_type": "markdown",
   "id": "09b86dbc",
   "metadata": {},
   "source": [
    "We first solve the system using the native torch linear solver"
   ]
  },
  {
   "cell_type": "code",
   "execution_count": 4,
   "id": "bbb289af",
   "metadata": {},
   "outputs": [],
   "source": [
    "check = torch.linalg.solve(A, b)"
   ]
  },
  {
   "cell_type": "markdown",
   "id": "5db576e0",
   "metadata": {},
   "source": [
    "Then we use our own"
   ]
  },
  {
   "cell_type": "code",
   "execution_count": 5,
   "id": "e74d3186",
   "metadata": {},
   "outputs": [],
   "source": [
    "sol = linear_log_cg_re(A_fn, b, initial_guess=torch.zeros_like(b), max_iter=int(1.e3), tolerance=1.e-2)"
   ]
  },
  {
   "cell_type": "markdown",
   "id": "a2face6b",
   "metadata": {},
   "source": [
    "The relative different to the solution is"
   ]
  },
  {
   "cell_type": "code",
   "execution_count": 6,
   "id": "76634235",
   "metadata": {},
   "outputs": [
    {
     "name": "stdout",
     "output_type": "stream",
     "text": [
      "Diff 8.689e-04\n"
     ]
    }
   ],
   "source": [
    "diff = torch.linalg.norm(check - sol) / torch.linalg.norm(sol)\n",
    "print(f'Diff {diff:1.3e}')"
   ]
  }
 ],
 "metadata": {
  "kernelspec": {
   "display_name": "Python 3 (ipykernel)",
   "language": "python",
   "name": "python3"
  },
  "language_info": {
   "codemirror_mode": {
    "name": "ipython",
    "version": 3
   },
   "file_extension": ".py",
   "mimetype": "text/x-python",
   "name": "python",
   "nbconvert_exporter": "python",
   "pygments_lexer": "ipython3",
   "version": "3.8.13"
  }
 },
 "nbformat": 4,
 "nbformat_minor": 5
}
